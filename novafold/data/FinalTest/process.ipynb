{
 "cells": [
  {
   "cell_type": "code",
   "execution_count": 2,
   "metadata": {},
   "outputs": [],
   "source": [
    "import os\n",
    "import numpy as np"
   ]
  },
  {
   "cell_type": "code",
   "execution_count": 1,
   "metadata": {},
   "outputs": [],
   "source": [
    "seqList = os.listdir('sequences')\n",
    "labelList = os.listdir('labels')\n",
    "assert (len(seqList) == len(labelList)), f\"len(seqList) != len(labelList): {len(seqList)}, {len(labelList)}\"\n"
   ]
  },
  {
   "cell_type": "code",
   "execution_count": 22,
   "metadata": {},
   "outputs": [],
   "source": [
    "lstFile = open(os.path.join('..', 'FinalTest.lst'), 'w')\n",
    "for seqFileName in seqList:\n",
    "    seqFile = open(os.path.join('sequences', seqFileName), 'r')\n",
    "    labelFile = open(os.path.join('labels', seqFileName), 'r')\n",
    "    outputFile = open(os.path.join(f'{seqFileName}.bpseq'), 'w')\n",
    "    seqFile.readline()\n",
    "    labelFile.readline()\n",
    "    labelFile.readline()\n",
    "    labelStrings = labelFile.readlines()\n",
    "    \n",
    "    seq = seqFile.readline().strip()\n",
    "    pair = np.zeros((len(seq)+2), dtype=np.int32)\n",
    "    \n",
    "    for labelString in labelStrings:\n",
    "        i, j = map(int, labelString.split())\n",
    "        pair[i] = j\n",
    "        pair[j] = i\n",
    "\n",
    "    for i in range(len(seq)):\n",
    "        outputFile.write(f'{i+1} {seq[i]} {pair[i+1]}\\n')\n",
    "    \n",
    "    seqFile.close()\n",
    "    labelFile.close()\n",
    "    outputFile.close()\n",
    "    \n",
    "    lstFile.write(f'data/FinalTest/public_test_set/{seqFileName}.bpseq\\n')\n",
    "lstFile.close()"
   ]
  },
  {
   "cell_type": "code",
   "execution_count": null,
   "metadata": {},
   "outputs": [],
   "source": []
  }
 ],
 "metadata": {
  "interpreter": {
   "hash": "e0a14ab1b1970d62b335c99762f5a19019209fb6618cd6df77ae1340d6621ffa"
  },
  "kernelspec": {
   "display_name": "Python 3.7.9 64-bit ('cs231n': conda)",
   "language": "python",
   "name": "python3"
  },
  "language_info": {
   "codemirror_mode": {
    "name": "ipython",
    "version": 3
   },
   "file_extension": ".py",
   "mimetype": "text/x-python",
   "name": "python",
   "nbconvert_exporter": "python",
   "pygments_lexer": "ipython3",
   "version": "3.7.9"
  },
  "orig_nbformat": 4
 },
 "nbformat": 4,
 "nbformat_minor": 2
}
